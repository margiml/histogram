{
 "cells": [
  {
   "cell_type": "code",
   "execution_count": 6,
   "id": "43f3c2d2",
   "metadata": {},
   "outputs": [
    {
     "name": "stdout",
     "output_type": "stream",
     "text": [
      "Enter the file name: sampletext\n"
     ]
    }
   ],
   "source": [
    "from os import strerror\n",
    "\n",
    "# Receive the name of the file through the console\n",
    "file_name = input(\"Enter the file name: \")\n",
    "\n",
    "# A dictionary is created to collect the counts, where the key is\n",
    "# the character and the value is the number of times it appears in the text.\n",
    "counts = {}\n",
    "\n",
    "try:\n",
    "    \n",
    "    # Creates the stream\n",
    "    stream_in = open(file_name + \".txt\", \"rt\")\n",
    "    \n",
    "    # The first character of the file is assigned to the variable char\n",
    "    char = stream_in.read(1)\n",
    "    \n",
    "    while char != \"\":\n",
    "        \n",
    "        # Verifies that what is stored in the char variable is a letter\n",
    "        if char.isalpha():\n",
    "            \n",
    "            # makes it lowercase\n",
    "            lower_char = char.lower()\n",
    "            \n",
    "            # checks if the character is already saved in the dictionary,\n",
    "            # if not, adds the character along with its count +1, if it already exists, adds the count +1\n",
    "            if lower_char not in counts.keys():\n",
    "                counts[lower_char] = 1\n",
    "            else:\n",
    "                counts[lower_char] += 1\n",
    "        \n",
    "        # Reads the next character and saves it in the char variable\n",
    "        char = stream_in.read(1)\n",
    "    \n",
    "    # Closes the stream\n",
    "    stream_in.close()\n",
    "\n",
    "    # Creates the stream\n",
    "    stream_out = open(file_name + \".hist\", \"wt\")\n",
    "\n",
    "    # Sorts the dictionary by value(number of occurrences of the character)\n",
    "    for key, value in sorted(counts.items(), key=lambda item: item[1], reverse=True):\n",
    "    \n",
    "        text = key + \" -> \" + str(value) + \"\\n\"\n",
    "        \n",
    "        # Writes the histpogram to the output file\n",
    "        stream_out.write(text)\n",
    "        \n",
    "    # Closes the stream\n",
    "    stream_out.close()\n",
    "\n",
    "except IOError as e:\n",
    "    print(\"Se produjo un error de E/S:\", strerror(e.errno))\n"
   ]
  },
  {
   "cell_type": "code",
   "execution_count": null,
   "id": "f1ec6ab7",
   "metadata": {},
   "outputs": [],
   "source": []
  },
  {
   "cell_type": "code",
   "execution_count": null,
   "id": "c4c10c45",
   "metadata": {},
   "outputs": [],
   "source": []
  }
 ],
 "metadata": {
  "kernelspec": {
   "display_name": "Python 3 (ipykernel)",
   "language": "python",
   "name": "python3"
  },
  "language_info": {
   "codemirror_mode": {
    "name": "ipython",
    "version": 3
   },
   "file_extension": ".py",
   "mimetype": "text/x-python",
   "name": "python",
   "nbconvert_exporter": "python",
   "pygments_lexer": "ipython3",
   "version": "3.10.9"
  }
 },
 "nbformat": 4,
 "nbformat_minor": 5
}
